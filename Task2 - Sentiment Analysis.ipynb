{
 "cells": [
  {
   "cell_type": "code",
   "execution_count": 101,
   "metadata": {},
   "outputs": [],
   "source": [
    "import pandas as pd\n",
    "import numpy as np\n",
    "import matplotlib.pyplot as plt\n",
    "import seaborn as sns \n",
    "from sklearn.feature_extraction.text import CountVectorizer\n",
    "from sklearn.feature_extraction.text import TfidfTransformer\n",
    "from sklearn import feature_extraction, linear_model, model_selection, preprocessing\n",
    "from sklearn.metrics import accuracy_score,f1_score,confusion_matrix\n",
    "from sklearn.model_selection import train_test_split\n",
    "from sklearn.pipeline import Pipeline\n",
    "from num2words import num2words\n",
    "import unidecode\n",
    "from nltk.stem import WordNetLemmatizer\n",
    "from nltk.tokenize import word_tokenize\n",
    "from sklearn.feature_extraction.text import TfidfVectorizer\n",
    "from sklearn.linear_model import LogisticRegression\n",
    "from sklearn import naive_bayes\n",
    "from sklearn.tree import DecisionTreeClassifier\n",
    "from sklearn.ensemble import RandomForestClassifier\n",
    "from sklearn.svm import LinearSVC"
   ]
  },
  {
   "cell_type": "markdown",
   "metadata": {},
   "source": [
    "#### Converting the CSV file into DataFrame"
   ]
  },
  {
   "cell_type": "code",
   "execution_count": 102,
   "metadata": {},
   "outputs": [
    {
     "data": {
      "text/html": [
       "<div>\n",
       "<style scoped>\n",
       "    .dataframe tbody tr th:only-of-type {\n",
       "        vertical-align: middle;\n",
       "    }\n",
       "\n",
       "    .dataframe tbody tr th {\n",
       "        vertical-align: top;\n",
       "    }\n",
       "\n",
       "    .dataframe thead th {\n",
       "        text-align: right;\n",
       "    }\n",
       "</style>\n",
       "<table border=\"1\" class=\"dataframe\">\n",
       "  <thead>\n",
       "    <tr style=\"text-align: right;\">\n",
       "      <th></th>\n",
       "      <th>UserName</th>\n",
       "      <th>ScreenName</th>\n",
       "      <th>Location</th>\n",
       "      <th>TweetAt</th>\n",
       "      <th>OriginalTweet</th>\n",
       "      <th>Sentiment</th>\n",
       "    </tr>\n",
       "  </thead>\n",
       "  <tbody>\n",
       "    <tr>\n",
       "      <th>0</th>\n",
       "      <td>1</td>\n",
       "      <td>44954</td>\n",
       "      <td>Seattle, WA</td>\n",
       "      <td>02-03-2020</td>\n",
       "      <td>When I couldn't find hand sanitizer at Fred Me...</td>\n",
       "      <td>Positive</td>\n",
       "    </tr>\n",
       "    <tr>\n",
       "      <th>1</th>\n",
       "      <td>2</td>\n",
       "      <td>44956</td>\n",
       "      <td>Chicagoland</td>\n",
       "      <td>02-03-2020</td>\n",
       "      <td>#Panic buying hits #NewYork City as anxious sh...</td>\n",
       "      <td>Negative</td>\n",
       "    </tr>\n",
       "    <tr>\n",
       "      <th>2</th>\n",
       "      <td>3</td>\n",
       "      <td>44959</td>\n",
       "      <td>NaN</td>\n",
       "      <td>03-03-2020</td>\n",
       "      <td>Voting in the age of #coronavirus = hand sanit...</td>\n",
       "      <td>Positive</td>\n",
       "    </tr>\n",
       "    <tr>\n",
       "      <th>3</th>\n",
       "      <td>4</td>\n",
       "      <td>44963</td>\n",
       "      <td>Boksburg, South Africa</td>\n",
       "      <td>04-03-2020</td>\n",
       "      <td>Best quality couches at unbelievably low price...</td>\n",
       "      <td>Positive</td>\n",
       "    </tr>\n",
       "    <tr>\n",
       "      <th>4</th>\n",
       "      <td>5</td>\n",
       "      <td>44967</td>\n",
       "      <td>Washington, DC</td>\n",
       "      <td>04-03-2020</td>\n",
       "      <td>While we were busy watching election returns a...</td>\n",
       "      <td>Positive</td>\n",
       "    </tr>\n",
       "  </tbody>\n",
       "</table>\n",
       "</div>"
      ],
      "text/plain": [
       "   UserName  ScreenName                Location     TweetAt  \\\n",
       "0         1       44954             Seattle, WA  02-03-2020   \n",
       "1         2       44956             Chicagoland  02-03-2020   \n",
       "2         3       44959                     NaN  03-03-2020   \n",
       "3         4       44963  Boksburg, South Africa  04-03-2020   \n",
       "4         5       44967          Washington, DC  04-03-2020   \n",
       "\n",
       "                                       OriginalTweet Sentiment  \n",
       "0  When I couldn't find hand sanitizer at Fred Me...  Positive  \n",
       "1  #Panic buying hits #NewYork City as anxious sh...  Negative  \n",
       "2  Voting in the age of #coronavirus = hand sanit...  Positive  \n",
       "3  Best quality couches at unbelievably low price...  Positive  \n",
       "4  While we were busy watching election returns a...  Positive  "
      ]
     },
     "execution_count": 102,
     "metadata": {},
     "output_type": "execute_result"
    }
   ],
   "source": [
    "df = pd.read_csv(\"CoronaTweetsSentimentAnalysis.csv\")\n",
    "df.head()"
   ]
  },
  {
   "cell_type": "markdown",
   "metadata": {},
   "source": [
    "#### Pre - processing techniques"
   ]
  },
  {
   "cell_type": "code",
   "execution_count": 103,
   "metadata": {},
   "outputs": [
    {
     "data": {
      "text/plain": [
       "(1988, 6)"
      ]
     },
     "execution_count": 103,
     "metadata": {},
     "output_type": "execute_result"
    }
   ],
   "source": [
    "df.shape"
   ]
  },
  {
   "cell_type": "code",
   "execution_count": 104,
   "metadata": {},
   "outputs": [
    {
     "data": {
      "text/plain": [
       "<bound method NDFrame.describe of       UserName  ScreenName                Location     TweetAt  \\\n",
       "0            1       44954             Seattle, WA  02-03-2020   \n",
       "1            2       44956             Chicagoland  02-03-2020   \n",
       "2            3       44959                     NaN  03-03-2020   \n",
       "3            4       44963  Boksburg, South Africa  04-03-2020   \n",
       "4            5       44967          Washington, DC  04-03-2020   \n",
       "...        ...         ...                     ...         ...   \n",
       "1983      1984       48737       Paraparaumu Beach  16-03-2020   \n",
       "1984      1985       48743        Cincinnati, Ohio  16-03-2020   \n",
       "1985      1986       48745         Washington D.C.  16-03-2020   \n",
       "1986      1987       48746               Israel ??  16-03-2020   \n",
       "1987      1988       48747          Farmington, NM  16-03-2020   \n",
       "\n",
       "                                          OriginalTweet Sentiment  \n",
       "0     When I couldn't find hand sanitizer at Fred Me...  Positive  \n",
       "1     #Panic buying hits #NewYork City as anxious sh...  Negative  \n",
       "2     Voting in the age of #coronavirus = hand sanit...  Positive  \n",
       "3     Best quality couches at unbelievably low price...  Positive  \n",
       "4     While we were busy watching election returns a...  Positive  \n",
       "...                                                 ...       ...  \n",
       "1983  Just been through K?piti New World which is bu...  Positive  \n",
       "1984  Even though the Law Library is closed, ALL sub...  Positive  \n",
       "1985  @RicePolitics @MDCounties Craig, will you call...  Negative  \n",
       "1986  Meanwhile In A Supermarket in Israel -- People...  Positive  \n",
       "1987  Did you panic buy a lot of non-perishable item...  Negative  \n",
       "\n",
       "[1988 rows x 6 columns]>"
      ]
     },
     "execution_count": 104,
     "metadata": {},
     "output_type": "execute_result"
    }
   ],
   "source": [
    "df.describe"
   ]
  },
  {
   "cell_type": "markdown",
   "metadata": {},
   "source": [
    "#### Checking for null values"
   ]
  },
  {
   "cell_type": "code",
   "execution_count": 105,
   "metadata": {},
   "outputs": [
    {
     "data": {
      "text/plain": [
       "UserName           0\n",
       "ScreenName         0\n",
       "Location         452\n",
       "TweetAt            0\n",
       "OriginalTweet      0\n",
       "Sentiment          0\n",
       "dtype: int64"
      ]
     },
     "execution_count": 105,
     "metadata": {},
     "output_type": "execute_result"
    }
   ],
   "source": [
    "df.isnull().sum()"
   ]
  },
  {
   "cell_type": "code",
   "execution_count": 106,
   "metadata": {},
   "outputs": [
    {
     "data": {
      "text/html": [
       "<div>\n",
       "<style scoped>\n",
       "    .dataframe tbody tr th:only-of-type {\n",
       "        vertical-align: middle;\n",
       "    }\n",
       "\n",
       "    .dataframe tbody tr th {\n",
       "        vertical-align: top;\n",
       "    }\n",
       "\n",
       "    .dataframe thead th {\n",
       "        text-align: right;\n",
       "    }\n",
       "</style>\n",
       "<table border=\"1\" class=\"dataframe\">\n",
       "  <thead>\n",
       "    <tr style=\"text-align: right;\">\n",
       "      <th></th>\n",
       "      <th>UserName</th>\n",
       "      <th>ScreenName</th>\n",
       "      <th>Location</th>\n",
       "      <th>TweetAt</th>\n",
       "      <th>OriginalTweet</th>\n",
       "      <th>Sentiment</th>\n",
       "    </tr>\n",
       "  </thead>\n",
       "  <tbody>\n",
       "    <tr>\n",
       "      <th>0</th>\n",
       "      <td>1</td>\n",
       "      <td>44954</td>\n",
       "      <td>Seattle, WA</td>\n",
       "      <td>02-03-2020</td>\n",
       "      <td>When I couldn't find hand sanitizer at Fred Me...</td>\n",
       "      <td>Positive</td>\n",
       "    </tr>\n",
       "    <tr>\n",
       "      <th>1</th>\n",
       "      <td>2</td>\n",
       "      <td>44956</td>\n",
       "      <td>Chicagoland</td>\n",
       "      <td>02-03-2020</td>\n",
       "      <td>#Panic buying hits #NewYork City as anxious sh...</td>\n",
       "      <td>Negative</td>\n",
       "    </tr>\n",
       "    <tr>\n",
       "      <th>3</th>\n",
       "      <td>4</td>\n",
       "      <td>44963</td>\n",
       "      <td>Boksburg, South Africa</td>\n",
       "      <td>04-03-2020</td>\n",
       "      <td>Best quality couches at unbelievably low price...</td>\n",
       "      <td>Positive</td>\n",
       "    </tr>\n",
       "    <tr>\n",
       "      <th>4</th>\n",
       "      <td>5</td>\n",
       "      <td>44967</td>\n",
       "      <td>Washington, DC</td>\n",
       "      <td>04-03-2020</td>\n",
       "      <td>While we were busy watching election returns a...</td>\n",
       "      <td>Positive</td>\n",
       "    </tr>\n",
       "    <tr>\n",
       "      <th>6</th>\n",
       "      <td>7</td>\n",
       "      <td>44973</td>\n",
       "      <td>Malta</td>\n",
       "      <td>05-03-2020</td>\n",
       "      <td>#CoronaVirus #COVID_19 People are starting to ...</td>\n",
       "      <td>Negative</td>\n",
       "    </tr>\n",
       "    <tr>\n",
       "      <th>...</th>\n",
       "      <td>...</td>\n",
       "      <td>...</td>\n",
       "      <td>...</td>\n",
       "      <td>...</td>\n",
       "      <td>...</td>\n",
       "      <td>...</td>\n",
       "    </tr>\n",
       "    <tr>\n",
       "      <th>1983</th>\n",
       "      <td>1984</td>\n",
       "      <td>48737</td>\n",
       "      <td>Paraparaumu Beach</td>\n",
       "      <td>16-03-2020</td>\n",
       "      <td>Just been through K?piti New World which is bu...</td>\n",
       "      <td>Positive</td>\n",
       "    </tr>\n",
       "    <tr>\n",
       "      <th>1984</th>\n",
       "      <td>1985</td>\n",
       "      <td>48743</td>\n",
       "      <td>Cincinnati, Ohio</td>\n",
       "      <td>16-03-2020</td>\n",
       "      <td>Even though the Law Library is closed, ALL sub...</td>\n",
       "      <td>Positive</td>\n",
       "    </tr>\n",
       "    <tr>\n",
       "      <th>1985</th>\n",
       "      <td>1986</td>\n",
       "      <td>48745</td>\n",
       "      <td>Washington D.C.</td>\n",
       "      <td>16-03-2020</td>\n",
       "      <td>@RicePolitics @MDCounties Craig, will you call...</td>\n",
       "      <td>Negative</td>\n",
       "    </tr>\n",
       "    <tr>\n",
       "      <th>1986</th>\n",
       "      <td>1987</td>\n",
       "      <td>48746</td>\n",
       "      <td>Israel ??</td>\n",
       "      <td>16-03-2020</td>\n",
       "      <td>Meanwhile In A Supermarket in Israel -- People...</td>\n",
       "      <td>Positive</td>\n",
       "    </tr>\n",
       "    <tr>\n",
       "      <th>1987</th>\n",
       "      <td>1988</td>\n",
       "      <td>48747</td>\n",
       "      <td>Farmington, NM</td>\n",
       "      <td>16-03-2020</td>\n",
       "      <td>Did you panic buy a lot of non-perishable item...</td>\n",
       "      <td>Negative</td>\n",
       "    </tr>\n",
       "  </tbody>\n",
       "</table>\n",
       "<p>1536 rows × 6 columns</p>\n",
       "</div>"
      ],
      "text/plain": [
       "      UserName  ScreenName                Location     TweetAt  \\\n",
       "0            1       44954             Seattle, WA  02-03-2020   \n",
       "1            2       44956             Chicagoland  02-03-2020   \n",
       "3            4       44963  Boksburg, South Africa  04-03-2020   \n",
       "4            5       44967          Washington, DC  04-03-2020   \n",
       "6            7       44973                   Malta  05-03-2020   \n",
       "...        ...         ...                     ...         ...   \n",
       "1983      1984       48737       Paraparaumu Beach  16-03-2020   \n",
       "1984      1985       48743        Cincinnati, Ohio  16-03-2020   \n",
       "1985      1986       48745         Washington D.C.  16-03-2020   \n",
       "1986      1987       48746               Israel ??  16-03-2020   \n",
       "1987      1988       48747          Farmington, NM  16-03-2020   \n",
       "\n",
       "                                          OriginalTweet Sentiment  \n",
       "0     When I couldn't find hand sanitizer at Fred Me...  Positive  \n",
       "1     #Panic buying hits #NewYork City as anxious sh...  Negative  \n",
       "3     Best quality couches at unbelievably low price...  Positive  \n",
       "4     While we were busy watching election returns a...  Positive  \n",
       "6     #CoronaVirus #COVID_19 People are starting to ...  Negative  \n",
       "...                                                 ...       ...  \n",
       "1983  Just been through K?piti New World which is bu...  Positive  \n",
       "1984  Even though the Law Library is closed, ALL sub...  Positive  \n",
       "1985  @RicePolitics @MDCounties Craig, will you call...  Negative  \n",
       "1986  Meanwhile In A Supermarket in Israel -- People...  Positive  \n",
       "1987  Did you panic buy a lot of non-perishable item...  Negative  \n",
       "\n",
       "[1536 rows x 6 columns]"
      ]
     },
     "execution_count": 106,
     "metadata": {},
     "output_type": "execute_result"
    }
   ],
   "source": [
    "df=df.dropna()\n",
    "df"
   ]
  },
  {
   "cell_type": "code",
   "execution_count": 107,
   "metadata": {},
   "outputs": [
    {
     "data": {
      "text/plain": [
       "UserName         0\n",
       "ScreenName       0\n",
       "Location         0\n",
       "TweetAt          0\n",
       "OriginalTweet    0\n",
       "Sentiment        0\n",
       "dtype: int64"
      ]
     },
     "execution_count": 107,
     "metadata": {},
     "output_type": "execute_result"
    }
   ],
   "source": [
    "df.isnull().sum()"
   ]
  },
  {
   "cell_type": "markdown",
   "metadata": {},
   "source": [
    "##### 1. Removing Punctuation"
   ]
  },
  {
   "cell_type": "code",
   "execution_count": 108,
   "metadata": {
    "scrolled": false
   },
   "outputs": [
    {
     "name": "stderr",
     "output_type": "stream",
     "text": [
      "C:\\Users\\HP\\anaconda3\\lib\\site-packages\\ipykernel_launcher.py:8: SettingWithCopyWarning: \n",
      "A value is trying to be set on a copy of a slice from a DataFrame.\n",
      "Try using .loc[row_indexer,col_indexer] = value instead\n",
      "\n",
      "See the caveats in the documentation: https://pandas.pydata.org/pandas-docs/stable/user_guide/indexing.html#returning-a-view-versus-a-copy\n",
      "  \n"
     ]
    },
    {
     "data": {
      "text/html": [
       "<div>\n",
       "<style scoped>\n",
       "    .dataframe tbody tr th:only-of-type {\n",
       "        vertical-align: middle;\n",
       "    }\n",
       "\n",
       "    .dataframe tbody tr th {\n",
       "        vertical-align: top;\n",
       "    }\n",
       "\n",
       "    .dataframe thead th {\n",
       "        text-align: right;\n",
       "    }\n",
       "</style>\n",
       "<table border=\"1\" class=\"dataframe\">\n",
       "  <thead>\n",
       "    <tr style=\"text-align: right;\">\n",
       "      <th></th>\n",
       "      <th>UserName</th>\n",
       "      <th>ScreenName</th>\n",
       "      <th>Location</th>\n",
       "      <th>TweetAt</th>\n",
       "      <th>OriginalTweet</th>\n",
       "      <th>Sentiment</th>\n",
       "    </tr>\n",
       "  </thead>\n",
       "  <tbody>\n",
       "    <tr>\n",
       "      <th>0</th>\n",
       "      <td>1</td>\n",
       "      <td>44954</td>\n",
       "      <td>Seattle, WA</td>\n",
       "      <td>02-03-2020</td>\n",
       "      <td>When I couldnt find hand sanitizer at Fred Mey...</td>\n",
       "      <td>Positive</td>\n",
       "    </tr>\n",
       "    <tr>\n",
       "      <th>1</th>\n",
       "      <td>2</td>\n",
       "      <td>44956</td>\n",
       "      <td>Chicagoland</td>\n",
       "      <td>02-03-2020</td>\n",
       "      <td>Panic buying hits NewYork City as anxious shop...</td>\n",
       "      <td>Negative</td>\n",
       "    </tr>\n",
       "    <tr>\n",
       "      <th>3</th>\n",
       "      <td>4</td>\n",
       "      <td>44963</td>\n",
       "      <td>Boksburg, South Africa</td>\n",
       "      <td>04-03-2020</td>\n",
       "      <td>Best quality couches at unbelievably low price...</td>\n",
       "      <td>Positive</td>\n",
       "    </tr>\n",
       "    <tr>\n",
       "      <th>4</th>\n",
       "      <td>5</td>\n",
       "      <td>44967</td>\n",
       "      <td>Washington, DC</td>\n",
       "      <td>04-03-2020</td>\n",
       "      <td>While we were busy watching election returns a...</td>\n",
       "      <td>Positive</td>\n",
       "    </tr>\n",
       "    <tr>\n",
       "      <th>6</th>\n",
       "      <td>7</td>\n",
       "      <td>44973</td>\n",
       "      <td>Malta</td>\n",
       "      <td>05-03-2020</td>\n",
       "      <td>CoronaVirus COVID19 People are starting to bec...</td>\n",
       "      <td>Negative</td>\n",
       "    </tr>\n",
       "  </tbody>\n",
       "</table>\n",
       "</div>"
      ],
      "text/plain": [
       "   UserName  ScreenName                Location     TweetAt  \\\n",
       "0         1       44954             Seattle, WA  02-03-2020   \n",
       "1         2       44956             Chicagoland  02-03-2020   \n",
       "3         4       44963  Boksburg, South Africa  04-03-2020   \n",
       "4         5       44967          Washington, DC  04-03-2020   \n",
       "6         7       44973                   Malta  05-03-2020   \n",
       "\n",
       "                                       OriginalTweet Sentiment  \n",
       "0  When I couldnt find hand sanitizer at Fred Mey...  Positive  \n",
       "1  Panic buying hits NewYork City as anxious shop...  Negative  \n",
       "3  Best quality couches at unbelievably low price...  Positive  \n",
       "4  While we were busy watching election returns a...  Positive  \n",
       "6  CoronaVirus COVID19 People are starting to bec...  Negative  "
      ]
     },
     "execution_count": 108,
     "metadata": {},
     "output_type": "execute_result"
    }
   ],
   "source": [
    "import string\n",
    "\n",
    "def punctuation_removal(OriginalTweet):\n",
    "    all_list = [char for char in OriginalTweet if char not in string.punctuation]\n",
    "    clean_str = ''.join(all_list)\n",
    "    return clean_str\n",
    "\n",
    "df['OriginalTweet'] = df['OriginalTweet'].apply(punctuation_removal)\n",
    "df.head()"
   ]
  },
  {
   "cell_type": "markdown",
   "metadata": {},
   "source": [
    "##### 2. Convert Uppercase to Lowercase"
   ]
  },
  {
   "cell_type": "code",
   "execution_count": 109,
   "metadata": {},
   "outputs": [
    {
     "name": "stderr",
     "output_type": "stream",
     "text": [
      "C:\\Users\\HP\\anaconda3\\lib\\site-packages\\ipykernel_launcher.py:4: SettingWithCopyWarning: \n",
      "A value is trying to be set on a copy of a slice from a DataFrame.\n",
      "Try using .loc[row_indexer,col_indexer] = value instead\n",
      "\n",
      "See the caveats in the documentation: https://pandas.pydata.org/pandas-docs/stable/user_guide/indexing.html#returning-a-view-versus-a-copy\n",
      "  after removing the cwd from sys.path.\n"
     ]
    },
    {
     "data": {
      "text/html": [
       "<div>\n",
       "<style scoped>\n",
       "    .dataframe tbody tr th:only-of-type {\n",
       "        vertical-align: middle;\n",
       "    }\n",
       "\n",
       "    .dataframe tbody tr th {\n",
       "        vertical-align: top;\n",
       "    }\n",
       "\n",
       "    .dataframe thead th {\n",
       "        text-align: right;\n",
       "    }\n",
       "</style>\n",
       "<table border=\"1\" class=\"dataframe\">\n",
       "  <thead>\n",
       "    <tr style=\"text-align: right;\">\n",
       "      <th></th>\n",
       "      <th>UserName</th>\n",
       "      <th>ScreenName</th>\n",
       "      <th>Location</th>\n",
       "      <th>TweetAt</th>\n",
       "      <th>OriginalTweet</th>\n",
       "      <th>Sentiment</th>\n",
       "    </tr>\n",
       "  </thead>\n",
       "  <tbody>\n",
       "    <tr>\n",
       "      <th>0</th>\n",
       "      <td>1</td>\n",
       "      <td>44954</td>\n",
       "      <td>Seattle, WA</td>\n",
       "      <td>02-03-2020</td>\n",
       "      <td>when i couldnt find hand sanitizer at fred mey...</td>\n",
       "      <td>Positive</td>\n",
       "    </tr>\n",
       "    <tr>\n",
       "      <th>1</th>\n",
       "      <td>2</td>\n",
       "      <td>44956</td>\n",
       "      <td>Chicagoland</td>\n",
       "      <td>02-03-2020</td>\n",
       "      <td>panic buying hits newyork city as anxious shop...</td>\n",
       "      <td>Negative</td>\n",
       "    </tr>\n",
       "    <tr>\n",
       "      <th>3</th>\n",
       "      <td>4</td>\n",
       "      <td>44963</td>\n",
       "      <td>Boksburg, South Africa</td>\n",
       "      <td>04-03-2020</td>\n",
       "      <td>best quality couches at unbelievably low price...</td>\n",
       "      <td>Positive</td>\n",
       "    </tr>\n",
       "    <tr>\n",
       "      <th>4</th>\n",
       "      <td>5</td>\n",
       "      <td>44967</td>\n",
       "      <td>Washington, DC</td>\n",
       "      <td>04-03-2020</td>\n",
       "      <td>while we were busy watching election returns a...</td>\n",
       "      <td>Positive</td>\n",
       "    </tr>\n",
       "    <tr>\n",
       "      <th>6</th>\n",
       "      <td>7</td>\n",
       "      <td>44973</td>\n",
       "      <td>Malta</td>\n",
       "      <td>05-03-2020</td>\n",
       "      <td>coronavirus covid19 people are starting to bec...</td>\n",
       "      <td>Negative</td>\n",
       "    </tr>\n",
       "  </tbody>\n",
       "</table>\n",
       "</div>"
      ],
      "text/plain": [
       "   UserName  ScreenName                Location     TweetAt  \\\n",
       "0         1       44954             Seattle, WA  02-03-2020   \n",
       "1         2       44956             Chicagoland  02-03-2020   \n",
       "3         4       44963  Boksburg, South Africa  04-03-2020   \n",
       "4         5       44967          Washington, DC  04-03-2020   \n",
       "6         7       44973                   Malta  05-03-2020   \n",
       "\n",
       "                                       OriginalTweet Sentiment  \n",
       "0  when i couldnt find hand sanitizer at fred mey...  Positive  \n",
       "1  panic buying hits newyork city as anxious shop...  Negative  \n",
       "3  best quality couches at unbelievably low price...  Positive  \n",
       "4  while we were busy watching election returns a...  Positive  \n",
       "6  coronavirus covid19 people are starting to bec...  Negative  "
      ]
     },
     "execution_count": 109,
     "metadata": {},
     "output_type": "execute_result"
    }
   ],
   "source": [
    "def convert_lowercase(sent):\n",
    "    sent=sent.lower()\n",
    "    return sent\n",
    "df['OriginalTweet']=df['OriginalTweet'].apply(convert_lowercase)\n",
    "df.head()"
   ]
  },
  {
   "cell_type": "markdown",
   "metadata": {},
   "source": [
    "##### 3. Convert Accented Characters to ASCII Characters"
   ]
  },
  {
   "cell_type": "code",
   "execution_count": 110,
   "metadata": {},
   "outputs": [
    {
     "name": "stderr",
     "output_type": "stream",
     "text": [
      "C:\\Users\\HP\\anaconda3\\lib\\site-packages\\ipykernel_launcher.py:4: SettingWithCopyWarning: \n",
      "A value is trying to be set on a copy of a slice from a DataFrame.\n",
      "Try using .loc[row_indexer,col_indexer] = value instead\n",
      "\n",
      "See the caveats in the documentation: https://pandas.pydata.org/pandas-docs/stable/user_guide/indexing.html#returning-a-view-versus-a-copy\n",
      "  after removing the cwd from sys.path.\n"
     ]
    },
    {
     "data": {
      "text/html": [
       "<div>\n",
       "<style scoped>\n",
       "    .dataframe tbody tr th:only-of-type {\n",
       "        vertical-align: middle;\n",
       "    }\n",
       "\n",
       "    .dataframe tbody tr th {\n",
       "        vertical-align: top;\n",
       "    }\n",
       "\n",
       "    .dataframe thead th {\n",
       "        text-align: right;\n",
       "    }\n",
       "</style>\n",
       "<table border=\"1\" class=\"dataframe\">\n",
       "  <thead>\n",
       "    <tr style=\"text-align: right;\">\n",
       "      <th></th>\n",
       "      <th>UserName</th>\n",
       "      <th>ScreenName</th>\n",
       "      <th>Location</th>\n",
       "      <th>TweetAt</th>\n",
       "      <th>OriginalTweet</th>\n",
       "      <th>Sentiment</th>\n",
       "    </tr>\n",
       "  </thead>\n",
       "  <tbody>\n",
       "    <tr>\n",
       "      <th>0</th>\n",
       "      <td>1</td>\n",
       "      <td>44954</td>\n",
       "      <td>Seattle, WA</td>\n",
       "      <td>02-03-2020</td>\n",
       "      <td>when i couldnt find hand sanitizer at fred mey...</td>\n",
       "      <td>Positive</td>\n",
       "    </tr>\n",
       "    <tr>\n",
       "      <th>1</th>\n",
       "      <td>2</td>\n",
       "      <td>44956</td>\n",
       "      <td>Chicagoland</td>\n",
       "      <td>02-03-2020</td>\n",
       "      <td>panic buying hits newyork city as anxious shop...</td>\n",
       "      <td>Negative</td>\n",
       "    </tr>\n",
       "    <tr>\n",
       "      <th>3</th>\n",
       "      <td>4</td>\n",
       "      <td>44963</td>\n",
       "      <td>Boksburg, South Africa</td>\n",
       "      <td>04-03-2020</td>\n",
       "      <td>best quality couches at unbelievably low price...</td>\n",
       "      <td>Positive</td>\n",
       "    </tr>\n",
       "    <tr>\n",
       "      <th>4</th>\n",
       "      <td>5</td>\n",
       "      <td>44967</td>\n",
       "      <td>Washington, DC</td>\n",
       "      <td>04-03-2020</td>\n",
       "      <td>while we were busy watching election returns a...</td>\n",
       "      <td>Positive</td>\n",
       "    </tr>\n",
       "    <tr>\n",
       "      <th>6</th>\n",
       "      <td>7</td>\n",
       "      <td>44973</td>\n",
       "      <td>Malta</td>\n",
       "      <td>05-03-2020</td>\n",
       "      <td>coronavirus covid19 people are starting to bec...</td>\n",
       "      <td>Negative</td>\n",
       "    </tr>\n",
       "  </tbody>\n",
       "</table>\n",
       "</div>"
      ],
      "text/plain": [
       "   UserName  ScreenName                Location     TweetAt  \\\n",
       "0         1       44954             Seattle, WA  02-03-2020   \n",
       "1         2       44956             Chicagoland  02-03-2020   \n",
       "3         4       44963  Boksburg, South Africa  04-03-2020   \n",
       "4         5       44967          Washington, DC  04-03-2020   \n",
       "6         7       44973                   Malta  05-03-2020   \n",
       "\n",
       "                                       OriginalTweet Sentiment  \n",
       "0  when i couldnt find hand sanitizer at fred mey...  Positive  \n",
       "1  panic buying hits newyork city as anxious shop...  Negative  \n",
       "3  best quality couches at unbelievably low price...  Positive  \n",
       "4  while we were busy watching election returns a...  Positive  \n",
       "6  coronavirus covid19 people are starting to bec...  Negative  "
      ]
     },
     "execution_count": 110,
     "metadata": {},
     "output_type": "execute_result"
    }
   ],
   "source": [
    "def to_ascii(x):\n",
    "    x = unidecode.unidecode(x)\n",
    "    return x\n",
    "df['OriginalTweet']=df['OriginalTweet'].apply(to_ascii)\n",
    "df.head()"
   ]
  },
  {
   "cell_type": "markdown",
   "metadata": {},
   "source": [
    "##### 4. Convert Number to Words"
   ]
  },
  {
   "cell_type": "code",
   "execution_count": 111,
   "metadata": {},
   "outputs": [
    {
     "name": "stderr",
     "output_type": "stream",
     "text": [
      "C:\\Users\\HP\\anaconda3\\lib\\site-packages\\ipykernel_launcher.py:12: SettingWithCopyWarning: \n",
      "A value is trying to be set on a copy of a slice from a DataFrame.\n",
      "Try using .loc[row_indexer,col_indexer] = value instead\n",
      "\n",
      "See the caveats in the documentation: https://pandas.pydata.org/pandas-docs/stable/user_guide/indexing.html#returning-a-view-versus-a-copy\n",
      "  if sys.path[0] == '':\n"
     ]
    },
    {
     "data": {
      "text/html": [
       "<div>\n",
       "<style scoped>\n",
       "    .dataframe tbody tr th:only-of-type {\n",
       "        vertical-align: middle;\n",
       "    }\n",
       "\n",
       "    .dataframe tbody tr th {\n",
       "        vertical-align: top;\n",
       "    }\n",
       "\n",
       "    .dataframe thead th {\n",
       "        text-align: right;\n",
       "    }\n",
       "</style>\n",
       "<table border=\"1\" class=\"dataframe\">\n",
       "  <thead>\n",
       "    <tr style=\"text-align: right;\">\n",
       "      <th></th>\n",
       "      <th>UserName</th>\n",
       "      <th>ScreenName</th>\n",
       "      <th>Location</th>\n",
       "      <th>TweetAt</th>\n",
       "      <th>OriginalTweet</th>\n",
       "      <th>Sentiment</th>\n",
       "    </tr>\n",
       "  </thead>\n",
       "  <tbody>\n",
       "    <tr>\n",
       "      <th>0</th>\n",
       "      <td>1</td>\n",
       "      <td>44954</td>\n",
       "      <td>Seattle, WA</td>\n",
       "      <td>02-03-2020</td>\n",
       "      <td>when i couldnt find hand sanitizer at fred mey...</td>\n",
       "      <td>Positive</td>\n",
       "    </tr>\n",
       "    <tr>\n",
       "      <th>1</th>\n",
       "      <td>2</td>\n",
       "      <td>44956</td>\n",
       "      <td>Chicagoland</td>\n",
       "      <td>02-03-2020</td>\n",
       "      <td>panic buying hits newyork city as anxious shop...</td>\n",
       "      <td>Negative</td>\n",
       "    </tr>\n",
       "    <tr>\n",
       "      <th>3</th>\n",
       "      <td>4</td>\n",
       "      <td>44963</td>\n",
       "      <td>Boksburg, South Africa</td>\n",
       "      <td>04-03-2020</td>\n",
       "      <td>best quality couches at unbelievably low price...</td>\n",
       "      <td>Positive</td>\n",
       "    </tr>\n",
       "    <tr>\n",
       "      <th>4</th>\n",
       "      <td>5</td>\n",
       "      <td>44967</td>\n",
       "      <td>Washington, DC</td>\n",
       "      <td>04-03-2020</td>\n",
       "      <td>while we were busy watching election returns a...</td>\n",
       "      <td>Positive</td>\n",
       "    </tr>\n",
       "    <tr>\n",
       "      <th>6</th>\n",
       "      <td>7</td>\n",
       "      <td>44973</td>\n",
       "      <td>Malta</td>\n",
       "      <td>05-03-2020</td>\n",
       "      <td>coronavirus covid19 people are starting to bec...</td>\n",
       "      <td>Negative</td>\n",
       "    </tr>\n",
       "  </tbody>\n",
       "</table>\n",
       "</div>"
      ],
      "text/plain": [
       "   UserName  ScreenName                Location     TweetAt  \\\n",
       "0         1       44954             Seattle, WA  02-03-2020   \n",
       "1         2       44956             Chicagoland  02-03-2020   \n",
       "3         4       44963  Boksburg, South Africa  04-03-2020   \n",
       "4         5       44967          Washington, DC  04-03-2020   \n",
       "6         7       44973                   Malta  05-03-2020   \n",
       "\n",
       "                                       OriginalTweet Sentiment  \n",
       "0  when i couldnt find hand sanitizer at fred mey...  Positive  \n",
       "1  panic buying hits newyork city as anxious shop...  Negative  \n",
       "3  best quality couches at unbelievably low price...  Positive  \n",
       "4  while we were busy watching election returns a...  Positive  \n",
       "6  coronavirus covid19 people are starting to bec...  Negative  "
      ]
     },
     "execution_count": 111,
     "metadata": {},
     "output_type": "execute_result"
    }
   ],
   "source": [
    "def num_to_words(OriginalTweet):\n",
    "    # splitting text into words with space\n",
    "    after_spliting = OriginalTweet.split()\n",
    "\n",
    "    for index in range(len(after_spliting)):\n",
    "        if after_spliting[index].isdigit():\n",
    "            after_spliting[index] = num2words(after_spliting[index])\n",
    "\n",
    "    # joining list into string with space\n",
    "    numbers_to_words = ' '.join(after_spliting)\n",
    "    return numbers_to_words\n",
    "df['OriginalTweet']=df['OriginalTweet'].apply(num_to_words)\n",
    "df.head()"
   ]
  },
  {
   "cell_type": "markdown",
   "metadata": {},
   "source": [
    "##### 5. Remove Stopwords"
   ]
  },
  {
   "cell_type": "code",
   "execution_count": 112,
   "metadata": {
    "scrolled": false
   },
   "outputs": [
    {
     "name": "stderr",
     "output_type": "stream",
     "text": [
      "[nltk_data] Downloading package stopwords to\n",
      "[nltk_data]     C:\\Users\\HP\\AppData\\Roaming\\nltk_data...\n",
      "[nltk_data]   Package stopwords is already up-to-date!\n",
      "C:\\Users\\HP\\anaconda3\\lib\\site-packages\\ipykernel_launcher.py:6: SettingWithCopyWarning: \n",
      "A value is trying to be set on a copy of a slice from a DataFrame.\n",
      "Try using .loc[row_indexer,col_indexer] = value instead\n",
      "\n",
      "See the caveats in the documentation: https://pandas.pydata.org/pandas-docs/stable/user_guide/indexing.html#returning-a-view-versus-a-copy\n",
      "  \n"
     ]
    },
    {
     "data": {
      "text/html": [
       "<div>\n",
       "<style scoped>\n",
       "    .dataframe tbody tr th:only-of-type {\n",
       "        vertical-align: middle;\n",
       "    }\n",
       "\n",
       "    .dataframe tbody tr th {\n",
       "        vertical-align: top;\n",
       "    }\n",
       "\n",
       "    .dataframe thead th {\n",
       "        text-align: right;\n",
       "    }\n",
       "</style>\n",
       "<table border=\"1\" class=\"dataframe\">\n",
       "  <thead>\n",
       "    <tr style=\"text-align: right;\">\n",
       "      <th></th>\n",
       "      <th>UserName</th>\n",
       "      <th>ScreenName</th>\n",
       "      <th>Location</th>\n",
       "      <th>TweetAt</th>\n",
       "      <th>OriginalTweet</th>\n",
       "      <th>Sentiment</th>\n",
       "    </tr>\n",
       "  </thead>\n",
       "  <tbody>\n",
       "    <tr>\n",
       "      <th>0</th>\n",
       "      <td>1</td>\n",
       "      <td>44954</td>\n",
       "      <td>Seattle, WA</td>\n",
       "      <td>02-03-2020</td>\n",
       "      <td>couldnt find hand sanitizer fred meyer turned ...</td>\n",
       "      <td>Positive</td>\n",
       "    </tr>\n",
       "    <tr>\n",
       "      <th>1</th>\n",
       "      <td>2</td>\n",
       "      <td>44956</td>\n",
       "      <td>Chicagoland</td>\n",
       "      <td>02-03-2020</td>\n",
       "      <td>panic buying hits newyork city anxious shopper...</td>\n",
       "      <td>Negative</td>\n",
       "    </tr>\n",
       "    <tr>\n",
       "      <th>3</th>\n",
       "      <td>4</td>\n",
       "      <td>44963</td>\n",
       "      <td>Boksburg, South Africa</td>\n",
       "      <td>04-03-2020</td>\n",
       "      <td>best quality couches unbelievably low prices a...</td>\n",
       "      <td>Positive</td>\n",
       "    </tr>\n",
       "    <tr>\n",
       "      <th>4</th>\n",
       "      <td>5</td>\n",
       "      <td>44967</td>\n",
       "      <td>Washington, DC</td>\n",
       "      <td>04-03-2020</td>\n",
       "      <td>busy watching election returns bracing covid19...</td>\n",
       "      <td>Positive</td>\n",
       "    </tr>\n",
       "    <tr>\n",
       "      <th>6</th>\n",
       "      <td>7</td>\n",
       "      <td>44973</td>\n",
       "      <td>Malta</td>\n",
       "      <td>05-03-2020</td>\n",
       "      <td>coronavirus covid19 people starting become fri...</td>\n",
       "      <td>Negative</td>\n",
       "    </tr>\n",
       "  </tbody>\n",
       "</table>\n",
       "</div>"
      ],
      "text/plain": [
       "   UserName  ScreenName                Location     TweetAt  \\\n",
       "0         1       44954             Seattle, WA  02-03-2020   \n",
       "1         2       44956             Chicagoland  02-03-2020   \n",
       "3         4       44963  Boksburg, South Africa  04-03-2020   \n",
       "4         5       44967          Washington, DC  04-03-2020   \n",
       "6         7       44973                   Malta  05-03-2020   \n",
       "\n",
       "                                       OriginalTweet Sentiment  \n",
       "0  couldnt find hand sanitizer fred meyer turned ...  Positive  \n",
       "1  panic buying hits newyork city anxious shopper...  Negative  \n",
       "3  best quality couches unbelievably low prices a...  Positive  \n",
       "4  busy watching election returns bracing covid19...  Positive  \n",
       "6  coronavirus covid19 people starting become fri...  Negative  "
      ]
     },
     "execution_count": 112,
     "metadata": {},
     "output_type": "execute_result"
    }
   ],
   "source": [
    "import nltk\n",
    "nltk.download('stopwords')\n",
    "from nltk.corpus import stopwords\n",
    "stop = stopwords.words('english')\n",
    "\n",
    "df['OriginalTweet'] = df['OriginalTweet'].apply(lambda x: ' '.join([word for word in x.split() if word not in (stop)]))\n",
    "df.head()"
   ]
  },
  {
   "cell_type": "markdown",
   "metadata": {},
   "source": [
    "##### 6. Lemmetizing the Text"
   ]
  },
  {
   "cell_type": "code",
   "execution_count": 113,
   "metadata": {
    "scrolled": true
   },
   "outputs": [
    {
     "name": "stderr",
     "output_type": "stream",
     "text": [
      "C:\\Users\\HP\\anaconda3\\lib\\site-packages\\ipykernel_launcher.py:14: SettingWithCopyWarning: \n",
      "A value is trying to be set on a copy of a slice from a DataFrame.\n",
      "Try using .loc[row_indexer,col_indexer] = value instead\n",
      "\n",
      "See the caveats in the documentation: https://pandas.pydata.org/pandas-docs/stable/user_guide/indexing.html#returning-a-view-versus-a-copy\n",
      "  \n"
     ]
    },
    {
     "data": {
      "text/html": [
       "<div>\n",
       "<style scoped>\n",
       "    .dataframe tbody tr th:only-of-type {\n",
       "        vertical-align: middle;\n",
       "    }\n",
       "\n",
       "    .dataframe tbody tr th {\n",
       "        vertical-align: top;\n",
       "    }\n",
       "\n",
       "    .dataframe thead th {\n",
       "        text-align: right;\n",
       "    }\n",
       "</style>\n",
       "<table border=\"1\" class=\"dataframe\">\n",
       "  <thead>\n",
       "    <tr style=\"text-align: right;\">\n",
       "      <th></th>\n",
       "      <th>UserName</th>\n",
       "      <th>ScreenName</th>\n",
       "      <th>Location</th>\n",
       "      <th>TweetAt</th>\n",
       "      <th>OriginalTweet</th>\n",
       "      <th>Sentiment</th>\n",
       "    </tr>\n",
       "  </thead>\n",
       "  <tbody>\n",
       "    <tr>\n",
       "      <th>0</th>\n",
       "      <td>1</td>\n",
       "      <td>44954</td>\n",
       "      <td>Seattle, WA</td>\n",
       "      <td>02-03-2020</td>\n",
       "      <td>couldnt find hand sanitizer fred meyer turned ...</td>\n",
       "      <td>Positive</td>\n",
       "    </tr>\n",
       "    <tr>\n",
       "      <th>1</th>\n",
       "      <td>2</td>\n",
       "      <td>44956</td>\n",
       "      <td>Chicagoland</td>\n",
       "      <td>02-03-2020</td>\n",
       "      <td>panic buying hit newyork city anxious shopper ...</td>\n",
       "      <td>Negative</td>\n",
       "    </tr>\n",
       "    <tr>\n",
       "      <th>3</th>\n",
       "      <td>4</td>\n",
       "      <td>44963</td>\n",
       "      <td>Boksburg, South Africa</td>\n",
       "      <td>04-03-2020</td>\n",
       "      <td>best quality couch unbelievably low price avai...</td>\n",
       "      <td>Positive</td>\n",
       "    </tr>\n",
       "    <tr>\n",
       "      <th>4</th>\n",
       "      <td>5</td>\n",
       "      <td>44967</td>\n",
       "      <td>Washington, DC</td>\n",
       "      <td>04-03-2020</td>\n",
       "      <td>busy watching election return bracing covid19 ...</td>\n",
       "      <td>Positive</td>\n",
       "    </tr>\n",
       "    <tr>\n",
       "      <th>6</th>\n",
       "      <td>7</td>\n",
       "      <td>44973</td>\n",
       "      <td>Malta</td>\n",
       "      <td>05-03-2020</td>\n",
       "      <td>coronavirus covid19 people starting become fri...</td>\n",
       "      <td>Negative</td>\n",
       "    </tr>\n",
       "  </tbody>\n",
       "</table>\n",
       "</div>"
      ],
      "text/plain": [
       "   UserName  ScreenName                Location     TweetAt  \\\n",
       "0         1       44954             Seattle, WA  02-03-2020   \n",
       "1         2       44956             Chicagoland  02-03-2020   \n",
       "3         4       44963  Boksburg, South Africa  04-03-2020   \n",
       "4         5       44967          Washington, DC  04-03-2020   \n",
       "6         7       44973                   Malta  05-03-2020   \n",
       "\n",
       "                                       OriginalTweet Sentiment  \n",
       "0  couldnt find hand sanitizer fred meyer turned ...  Positive  \n",
       "1  panic buying hit newyork city anxious shopper ...  Negative  \n",
       "3  best quality couch unbelievably low price avai...  Positive  \n",
       "4  busy watching election return bracing covid19 ...  Positive  \n",
       "6  coronavirus covid19 people starting become fri...  Negative  "
      ]
     },
     "execution_count": 113,
     "metadata": {},
     "output_type": "execute_result"
    }
   ],
   "source": [
    "lemma = WordNetLemmatizer()\n",
    "def lemmatization(text):\n",
    "\n",
    "    # word tokenization\n",
    "    tokens = word_tokenize(text)\n",
    "\n",
    "    for index in range(len(tokens)):\n",
    "        # lemma word\n",
    "        lemma_word = lemma.lemmatize(tokens[index])\n",
    "        tokens[index] = lemma_word\n",
    "\n",
    "    return ' '.join(tokens)\n",
    "# initialize lemmatizer object\n",
    "df['OriginalTweet']=df['OriginalTweet'].apply(lemmatization)\n",
    "df.head()"
   ]
  },
  {
   "cell_type": "markdown",
   "metadata": {},
   "source": [
    "##### Removing columns"
   ]
  },
  {
   "cell_type": "code",
   "execution_count": 114,
   "metadata": {},
   "outputs": [
    {
     "name": "stderr",
     "output_type": "stream",
     "text": [
      "C:\\Users\\HP\\anaconda3\\lib\\site-packages\\pandas\\core\\frame.py:3997: SettingWithCopyWarning: \n",
      "A value is trying to be set on a copy of a slice from a DataFrame\n",
      "\n",
      "See the caveats in the documentation: https://pandas.pydata.org/pandas-docs/stable/user_guide/indexing.html#returning-a-view-versus-a-copy\n",
      "  errors=errors,\n"
     ]
    }
   ],
   "source": [
    "df.drop(['UserName', 'ScreenName','Location','TweetAt'], axis = 1,inplace=True)"
   ]
  },
  {
   "cell_type": "code",
   "execution_count": 115,
   "metadata": {},
   "outputs": [
    {
     "name": "stdout",
     "output_type": "stream",
     "text": [
      "Sentiment\n",
      "Negative    811\n",
      "Positive    725\n",
      "Name: OriginalTweet, dtype: int64\n"
     ]
    },
    {
     "data": {
      "image/png": "[encoded data removed]",
      "text/plain": [
       "<Figure size 432x288 with 1 Axes>"
      ]
     },
     "metadata": {
      "needs_background": "light"
     },
     "output_type": "display_data"
    }
   ],
   "source": [
    "# How many fake and real articles?\n",
    "print(df.groupby(['Sentiment'])['OriginalTweet'].count())\n",
    "df.groupby(['Sentiment'])['OriginalTweet'].count().plot(kind=\"bar\")\n",
    "plt.show()"
   ]
  },
  {
   "cell_type": "markdown",
   "metadata": {},
   "source": [
    "##### Label Encoding"
   ]
  },
  {
   "cell_type": "code",
   "execution_count": 116,
   "metadata": {},
   "outputs": [
    {
     "name": "stderr",
     "output_type": "stream",
     "text": [
      "C:\\Users\\HP\\anaconda3\\lib\\site-packages\\ipykernel_launcher.py:4: SettingWithCopyWarning: \n",
      "A value is trying to be set on a copy of a slice from a DataFrame.\n",
      "Try using .loc[row_indexer,col_indexer] = value instead\n",
      "\n",
      "See the caveats in the documentation: https://pandas.pydata.org/pandas-docs/stable/user_guide/indexing.html#returning-a-view-versus-a-copy\n",
      "  after removing the cwd from sys.path.\n"
     ]
    },
    {
     "data": {
      "text/html": [
       "<div>\n",
       "<style scoped>\n",
       "    .dataframe tbody tr th:only-of-type {\n",
       "        vertical-align: middle;\n",
       "    }\n",
       "\n",
       "    .dataframe tbody tr th {\n",
       "        vertical-align: top;\n",
       "    }\n",
       "\n",
       "    .dataframe thead th {\n",
       "        text-align: right;\n",
       "    }\n",
       "</style>\n",
       "<table border=\"1\" class=\"dataframe\">\n",
       "  <thead>\n",
       "    <tr style=\"text-align: right;\">\n",
       "      <th></th>\n",
       "      <th>OriginalTweet</th>\n",
       "      <th>Sentiment</th>\n",
       "    </tr>\n",
       "  </thead>\n",
       "  <tbody>\n",
       "    <tr>\n",
       "      <th>0</th>\n",
       "      <td>couldnt find hand sanitizer fred meyer turned ...</td>\n",
       "      <td>1</td>\n",
       "    </tr>\n",
       "    <tr>\n",
       "      <th>1</th>\n",
       "      <td>panic buying hit newyork city anxious shopper ...</td>\n",
       "      <td>0</td>\n",
       "    </tr>\n",
       "    <tr>\n",
       "      <th>3</th>\n",
       "      <td>best quality couch unbelievably low price avai...</td>\n",
       "      <td>1</td>\n",
       "    </tr>\n",
       "    <tr>\n",
       "      <th>4</th>\n",
       "      <td>busy watching election return bracing covid19 ...</td>\n",
       "      <td>1</td>\n",
       "    </tr>\n",
       "    <tr>\n",
       "      <th>6</th>\n",
       "      <td>coronavirus covid19 people starting become fri...</td>\n",
       "      <td>0</td>\n",
       "    </tr>\n",
       "    <tr>\n",
       "      <th>7</th>\n",
       "      <td>alright yall hope melanin prevails case took p...</td>\n",
       "      <td>1</td>\n",
       "    </tr>\n",
       "    <tr>\n",
       "      <th>8</th>\n",
       "      <td>usual grocery shopping woolworth turn toilet p...</td>\n",
       "      <td>0</td>\n",
       "    </tr>\n",
       "    <tr>\n",
       "      <th>11</th>\n",
       "      <td>coronavirus exposure hole social safety net sa...</td>\n",
       "      <td>1</td>\n",
       "    </tr>\n",
       "    <tr>\n",
       "      <th>12</th>\n",
       "      <td>two important phone number nyers know doctor i...</td>\n",
       "      <td>0</td>\n",
       "    </tr>\n",
       "    <tr>\n",
       "      <th>13</th>\n",
       "      <td>fellow uni instructor covid19 f2f class cancel...</td>\n",
       "      <td>0</td>\n",
       "    </tr>\n",
       "  </tbody>\n",
       "</table>\n",
       "</div>"
      ],
      "text/plain": [
       "                                        OriginalTweet  Sentiment\n",
       "0   couldnt find hand sanitizer fred meyer turned ...          1\n",
       "1   panic buying hit newyork city anxious shopper ...          0\n",
       "3   best quality couch unbelievably low price avai...          1\n",
       "4   busy watching election return bracing covid19 ...          1\n",
       "6   coronavirus covid19 people starting become fri...          0\n",
       "7   alright yall hope melanin prevails case took p...          1\n",
       "8   usual grocery shopping woolworth turn toilet p...          0\n",
       "11  coronavirus exposure hole social safety net sa...          1\n",
       "12  two important phone number nyers know doctor i...          0\n",
       "13  fellow uni instructor covid19 f2f class cancel...          0"
      ]
     },
     "execution_count": 116,
     "metadata": {},
     "output_type": "execute_result"
    }
   ],
   "source": [
    "sent={'Negative':0,'Positive':1}\n",
    "def labelencode(x):\n",
    "    return sent[x]\n",
    "df['Sentiment']=df['Sentiment'].apply(labelencode)\n",
    "df.head(10)\n"
   ]
  },
  {
   "cell_type": "markdown",
   "metadata": {},
   "source": [
    "##### Train Test Split"
   ]
  },
  {
   "cell_type": "code",
   "execution_count": 117,
   "metadata": {},
   "outputs": [],
   "source": [
    "x=df['OriginalTweet']\n",
    "y=df['Sentiment']\n",
    "x_train,x_test,y_train,y_test=train_test_split(x,y,test_size=0.3,random_state=101)"
   ]
  },
  {
   "cell_type": "markdown",
   "metadata": {},
   "source": [
    "##### Tfidf Vectorizer"
   ]
  },
  {
   "cell_type": "code",
   "execution_count": 118,
   "metadata": {},
   "outputs": [
    {
     "data": {
      "text/plain": [
       "((1075, 5488), (461, 5488))"
      ]
     },
     "execution_count": 118,
     "metadata": {},
     "output_type": "execute_result"
    }
   ],
   "source": [
    "tfidf_vectorizer=TfidfVectorizer(stop_words='english', max_df=0.7)\n",
    "tfidf_train=tfidf_vectorizer.fit_transform(x_train) \n",
    "tfidf_test=tfidf_vectorizer.transform(x_test)\n",
    "tfidf_train.shape,tfidf_test.shape"
   ]
  },
  {
   "cell_type": "markdown",
   "metadata": {},
   "source": [
    "##### Model Fitting"
   ]
  },
  {
   "cell_type": "code",
   "execution_count": 120,
   "metadata": {},
   "outputs": [
    {
     "name": "stdout",
     "output_type": "stream",
     "text": [
      "Logistic Regression Accuracy Percentage:  0.6226\n",
      "Naive Bayes Accuracy Percentage:  0.5944\n",
      "Decision Tree Accuracy Percentage:  0.5748\n",
      "Random Forest Accuracy Percentage:  0.603\n",
      "SVM Accuracy Percentage:  0.6117\n"
     ]
    }
   ],
   "source": [
    "lr=LogisticRegression(random_state=0)\n",
    "lr.fit(tfidf_train,y_train)\n",
    "yprediction1=lr.predict(tfidf_test)\n",
    "print(\"Logistic Regression Accuracy Percentage: \",round(accuracy_score(yprediction1,y_test),4))\n",
    "\n",
    "model_naive = naive_bayes.MultinomialNB()\n",
    "model_naive.fit(tfidf_train, y_train)\n",
    "yprediction2=model_naive.predict(tfidf_test)\n",
    "print(\"Naive Bayes Accuracy Percentage: \",round(accuracy_score(yprediction2,y_test),4))\n",
    "\n",
    "dt=DecisionTreeClassifier(random_state=0)\n",
    "dt.fit(tfidf_train,y_train)\n",
    "yprediction3=dt.predict(tfidf_test)\n",
    "print(\"Decision Tree Accuracy Percentage: \",round(accuracy_score(yprediction3,y_test),4))\n",
    "\n",
    "rf=RandomForestClassifier(n_estimators=50)\n",
    "rf.fit(tfidf_train,y_train)\n",
    "yprediction4=rf.predict(tfidf_test)\n",
    "print(\"Random Forest Accuracy Percentage: \",round(accuracy_score(yprediction4,y_test),4))\n",
    "\n",
    "svm=LinearSVC()\n",
    "svm.fit(tfidf_train,y_train)\n",
    "yprediction5=svm.predict(tfidf_test)\n",
    "print(\"SVM Accuracy Percentage: \",round(accuracy_score(yprediction5,y_test),4))"
   ]
  },
  {
   "cell_type": "code",
   "execution_count": null,
   "metadata": {},
   "outputs": [],
   "source": []
  }
 ],
 "metadata": {
  "kernelspec": {
   "display_name": "Python 3",
   "language": "python",
   "name": "python3"
  },
  "language_info": {
   "codemirror_mode": {
    "name": "ipython",
    "version": 3
   },
   "file_extension": ".py",
   "mimetype": "text/x-python",
   "name": "python",
   "nbconvert_exporter": "python",
   "pygments_lexer": "ipython3",
   "version": "3.7.6"
  }
 },
 "nbformat": 4,
 "nbformat_minor": 4
}
